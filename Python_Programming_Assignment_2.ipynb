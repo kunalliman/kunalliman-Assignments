{
  "cells": [
    {
      "cell_type": "markdown",
      "metadata": {
        "id": "view-in-github",
        "colab_type": "text"
      },
      "source": [
        "<a href=\"https://colab.research.google.com/github/kunalliman/kunalliman-iNeuron-Assignments/blob/main/Python_Programming_Assignment_2.ipynb\" target=\"_parent\"><img src=\"https://colab.research.google.com/assets/colab-badge.svg\" alt=\"Open In Colab\"/></a>"
      ]
    },
    {
      "cell_type": "markdown",
      "id": "08c66ea5",
      "metadata": {
        "id": "08c66ea5"
      },
      "source": [
        "## Programming Assignment_2\n",
        "-------------"
      ]
    },
    {
      "cell_type": "markdown",
      "id": "4e50cf42",
      "metadata": {
        "id": "4e50cf42"
      },
      "source": [
        "1. Write a Python program to convert kilometers to miles?\n"
      ]
    },
    {
      "cell_type": "code",
      "source": [
        "k=float(input(\"Kilometers: \"))\n",
        "m= k*0.621371\n",
        "print(\"Value in miles: %.2f\" % m)"
      ],
      "metadata": {
        "colab": {
          "base_uri": "https://localhost:8080/"
        },
        "id": "o7gHvChqz-L3",
        "outputId": "f2f4e72d-71dc-42c3-fdae-ef59e0f83eb0"
      },
      "id": "o7gHvChqz-L3",
      "execution_count": 5,
      "outputs": [
        {
          "output_type": "stream",
          "name": "stdout",
          "text": [
            "Kilometers: 45\n",
            "Value in miles: 27.96\n"
          ]
        }
      ]
    },
    {
      "cell_type": "markdown",
      "id": "0df4e6bf",
      "metadata": {
        "id": "0df4e6bf"
      },
      "source": [
        "### 2.Write a Python program to convert Celsius to Fahrenheit?"
      ]
    },
    {
      "cell_type": "code",
      "source": [
        "c=float(input(\"Temperature in celsius: \"))\n",
        "f=c*1.8+32\n",
        "print(\"%.1f Degree Celsius is equal to %.1f Degree Fahrenheit\" %(c,f))"
      ],
      "metadata": {
        "colab": {
          "base_uri": "https://localhost:8080/"
        },
        "id": "WAgI6cQM1hVY",
        "outputId": "4b04730a-dd9b-47cb-aeec-a0eb87d87c70"
      },
      "id": "WAgI6cQM1hVY",
      "execution_count": 10,
      "outputs": [
        {
          "output_type": "stream",
          "name": "stdout",
          "text": [
            "Temperature in celsius: 45.3821\n",
            "45.4 Degree Celsius is equal to 113.7 Degree Fahrenheit\n"
          ]
        }
      ]
    },
    {
      "cell_type": "markdown",
      "id": "46129b8e",
      "metadata": {
        "id": "46129b8e"
      },
      "source": [
        "3. Write a Python program to display calendar?\n"
      ]
    },
    {
      "cell_type": "code",
      "source": [
        "import calendar\n",
        "Y=int(input(\"Enter Year: \"))\n",
        "M=int(input(\"Enter Month: \"))\n",
        "print(calendar.month(Y, M))"
      ],
      "metadata": {
        "colab": {
          "base_uri": "https://localhost:8080/"
        },
        "id": "EQa2Lz1o1ghI",
        "outputId": "2b7c95ab-5085-4535-b98d-561f4bf5399b"
      },
      "id": "EQa2Lz1o1ghI",
      "execution_count": 2,
      "outputs": [
        {
          "output_type": "stream",
          "name": "stdout",
          "text": [
            "Enter Year: 2023\n",
            "Enter Month: 1\n",
            "    January 2023\n",
            "Mo Tu We Th Fr Sa Su\n",
            "                   1\n",
            " 2  3  4  5  6  7  8\n",
            " 9 10 11 12 13 14 15\n",
            "16 17 18 19 20 21 22\n",
            "23 24 25 26 27 28 29\n",
            "30 31\n",
            "\n"
          ]
        }
      ]
    },
    {
      "cell_type": "markdown",
      "id": "db2bf0f7",
      "metadata": {
        "id": "db2bf0f7"
      },
      "source": [
        "### 4. Write a Python program to solve quadratic equation?"
      ]
    },
    {
      "cell_type": "code",
      "source": [
        "## Quadratic equation :- ax**2 + bx + c=0\n",
        "import cmath\n",
        "a = float(input('a: '))  \n",
        "b = float(input('b: '))  \n",
        "c = float(input('c: '))  \n",
        "d = (b**2) - (4*a*c)  \n",
        "  \n",
        "# find two solutions  \n",
        "sol1 = (-b + cmath.sqrt(d))/(2*a)  \n",
        "sol2 = (-b - cmath.sqrt(d))/(2*a)  \n",
        "print('The solution are {:.2f} and {:.2f}'.format(sol1,sol2))  "
      ],
      "metadata": {
        "colab": {
          "base_uri": "https://localhost:8080/"
        },
        "id": "Lr6PHO5V4yT4",
        "outputId": "11dabc9a-0cac-43ba-bd77-86737fcb1cb6"
      },
      "id": "Lr6PHO5V4yT4",
      "execution_count": 7,
      "outputs": [
        {
          "output_type": "stream",
          "name": "stdout",
          "text": [
            "a: 4\n",
            "b: 3\n",
            "c: 2\n",
            "The solution are -0.38+0.60j and -0.38-0.60j\n"
          ]
        }
      ]
    },
    {
      "cell_type": "markdown",
      "id": "f70f74c9",
      "metadata": {
        "id": "f70f74c9"
      },
      "source": [
        "5. Write a Python program to swap two variables without temp variable?"
      ]
    },
    {
      "cell_type": "code",
      "source": [
        "x = 5\n",
        "y = 7\n",
        "print(\"Before swap: \",\"Value of x:\", x, \" , y:\", y)\n",
        " \n",
        "x, y = y, x\n",
        " \n",
        "print(\"After swapping: \", \"Value of x:\", x, \" , y:\", y)"
      ],
      "metadata": {
        "colab": {
          "base_uri": "https://localhost:8080/"
        },
        "id": "_HuvvoGs7_nB",
        "outputId": "d70dfbc6-2520-4613-e26b-28f8af5d65ed"
      },
      "id": "_HuvvoGs7_nB",
      "execution_count": 12,
      "outputs": [
        {
          "output_type": "stream",
          "name": "stdout",
          "text": [
            "Before swap:  Value of x: 5  , y: 7\n",
            "After swapping:  Value of x: 7  , y: 5\n"
          ]
        }
      ]
    }
  ],
  "metadata": {
    "kernelspec": {
      "display_name": "Python 3 (ipykernel)",
      "language": "python",
      "name": "python3"
    },
    "language_info": {
      "codemirror_mode": {
        "name": "ipython",
        "version": 3
      },
      "file_extension": ".py",
      "mimetype": "text/x-python",
      "name": "python",
      "nbconvert_exporter": "python",
      "pygments_lexer": "ipython3",
      "version": "3.9.12"
    },
    "colab": {
      "provenance": [],
      "include_colab_link": true
    }
  },
  "nbformat": 4,
  "nbformat_minor": 5
}