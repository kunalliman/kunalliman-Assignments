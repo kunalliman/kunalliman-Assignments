{
  "nbformat": 4,
  "nbformat_minor": 0,
  "metadata": {
    "colab": {
      "provenance": [],
      "authorship_tag": "ABX9TyOdelwORfeYAsVTFTOWmGnZ",
      "include_colab_link": true
    },
    "kernelspec": {
      "name": "python3",
      "display_name": "Python 3"
    },
    "language_info": {
      "name": "python"
    }
  },
  "cells": [
    {
      "cell_type": "markdown",
      "metadata": {
        "id": "view-in-github",
        "colab_type": "text"
      },
      "source": [
        "<a href=\"https://colab.research.google.com/github/kunalliman/kunalliman-iNeuron-Assignments/blob/main/Python_Assignment_1.ipynb\" target=\"_parent\"><img src=\"https://colab.research.google.com/assets/colab-badge.svg\" alt=\"Open In Colab\"/></a>"
      ]
    },
    {
      "cell_type": "markdown",
      "source": [
        "1. In the below elements which of them are values or an expression? eg:- values can be integer or string and expressions will be mathematical operators.\n",
        " * is a operator \n",
        " 'hello' is string value\n",
        " -87.8 is integer value\n",
        " - is a operator \n",
        " / is a operator \n",
        " +\tis a operator \n",
        " 6 is integer value "
      ],
      "metadata": {
        "id": "XTYvQispcF-v"
      }
    },
    {
      "cell_type": "markdown",
      "source": [
        "2. What is the difference between string and variable?\n",
        " \n",
        " Variables are symbols that you can use to store data in a program. Strings are data, which can be filled in a variable."
      ],
      "metadata": {
        "id": "_vosEWzWe6pK"
      }
    },
    {
      "cell_type": "markdown",
      "source": [
        "3. Describe three different data types.\n",
        "\n",
        "Numeric data type has numeric values in the form of integers , float, complex numbers.\n",
        "Sequence data type is the ordered collection of different or similar data types. It consists of list, tuples, dictionary.\n",
        "Boolean data type has two built in values True and False."
      ],
      "metadata": {
        "id": "Pb92LEFfgXRD"
      }
    },
    {
      "cell_type": "markdown",
      "source": [
        "4. What is an expression made up of? What do all expressions do?\n",
        "\n",
        "An expression is a combination of operators and operands. There can be various variables, operators, and methods in an expression to evaluate a single value. "
      ],
      "metadata": {
        "id": "ReXS70Yz7-Qr"
      }
    },
    {
      "cell_type": "markdown",
      "source": [
        "5. This assignment statements, like spam = 10. What is the difference between an expression and a statement?\n",
        "\n",
        "A statement is a complete line of code that performs some action, while an expression is any section of the code that evaluates to a value."
      ],
      "metadata": {
        "id": "Hwd_d6EA8wrN"
      }
    },
    {
      "cell_type": "markdown",
      "source": [
        " 6. After running the following code, what does the variable bacon contain?\n",
        "bacon = 22\n",
        "bacon + 1\n",
        "\n",
        "Variable bacon still contains the integer 22. The bacon + 1 expression does not reassign the value in bacon."
      ],
      "metadata": {
        "id": "RGS1_p9O90vS"
      }
    },
    {
      "cell_type": "markdown",
      "source": [
        "7. What should the values of the following two terms be?\n",
        "'spam' + 'spamspam' \n",
        "'spam' * 3\n",
        "\n",
        "'spamspamspam' will be the value for both.\n"
      ],
      "metadata": {
        "id": "ZcQrshdL_wSR"
      }
    },
    {
      "cell_type": "markdown",
      "source": [
        "8. Why is eggs a valid variable name while 100 is invalid?\n",
        "\n",
        "Variable names cannot begin with a number."
      ],
      "metadata": {
        "id": "Lq6KsPtmAefm"
      }
    },
    {
      "cell_type": "markdown",
      "source": [
        "9. What three functions can be used to get the integer, floating-point number, or string version of a value?\n",
        "\n",
        "The int(), float(), and str() functions will give integer, floating-point number, or string version of a value respectively."
      ],
      "metadata": {
        "id": "RZYICLeGAjBB"
      }
    },
    {
      "cell_type": "markdown",
      "source": [
        "10. Why does this expression cause an error? How can you fix it?\n",
        "'I have eaten ' + 99 + ' burritos.'\n",
        "\n",
        "The expression causes an error because 99 is an integer, and not a string to can be concatenate to other strings with. Solution:  'I have eaten ' + str(99) + ' burritos.'"
      ],
      "metadata": {
        "id": "wVgW-JmqBCYW"
      }
    }
  ]
}