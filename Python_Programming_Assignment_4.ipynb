{
  "cells": [
    {
      "cell_type": "markdown",
      "metadata": {
        "id": "view-in-github",
        "colab_type": "text"
      },
      "source": [
        "<a href=\"https://colab.research.google.com/github/kunalliman/kunalliman-iNeuron-Assignments/blob/main/Python_Programming_Assignment_4.ipynb\" target=\"_parent\"><img src=\"https://colab.research.google.com/assets/colab-badge.svg\" alt=\"Open In Colab\"/></a>"
      ]
    },
    {
      "cell_type": "markdown",
      "id": "20cb4340",
      "metadata": {
        "id": "20cb4340"
      },
      "source": [
        "## Programming Assignment_4\n",
        "----------------"
      ]
    },
    {
      "cell_type": "markdown",
      "id": "4fdb6695",
      "metadata": {
        "id": "4fdb6695"
      },
      "source": [
        "### 1. Write a Python Program to Find the Factorial of a Number?"
      ]
    },
    {
      "cell_type": "code",
      "source": [
        "num = int(input(\"NUM: \"))\n",
        "\n",
        "factorial = 1\n",
        "\n",
        "if num < 0:\n",
        "   print(\"Factorial does not exist for negative numbers\")\n",
        "elif num == 0:\n",
        "   print(\"The factorial of 0 is 1\")\n",
        "else:\n",
        "   for i in range(1,num + 1):\n",
        "       factorial = factorial*i\n",
        "   print(\"The factorial of\",num,\"is\",factorial)\n",
        "   "
      ],
      "metadata": {
        "id": "hOeAnUwS8YPP",
        "colab": {
          "base_uri": "https://localhost:8080/"
        },
        "outputId": "4c7fad33-bca2-4a1e-dc2c-e8fda8af8579"
      },
      "id": "hOeAnUwS8YPP",
      "execution_count": 10,
      "outputs": [
        {
          "output_type": "stream",
          "name": "stdout",
          "text": [
            "NUM: 3\n",
            "The factorial of 3 is 6\n"
          ]
        }
      ]
    },
    {
      "cell_type": "markdown",
      "id": "e6beef62",
      "metadata": {
        "id": "e6beef62"
      },
      "source": [
        "### 2. Write a Python Program to Display the multiplication Table?"
      ]
    },
    {
      "cell_type": "code",
      "source": [
        "num = int(input(\"NUM: \"))\n",
        "for i in range(0,10):\n",
        "  i=i+1\n",
        "  v=num*i\n",
        "  print(num, \"X\",i , \"= \", v )"
      ],
      "metadata": {
        "id": "KRlnRPqETMOx",
        "colab": {
          "base_uri": "https://localhost:8080/"
        },
        "outputId": "4a7fb1b1-f7a7-40b7-b581-d97cfefb5401"
      },
      "id": "KRlnRPqETMOx",
      "execution_count": 15,
      "outputs": [
        {
          "output_type": "stream",
          "name": "stdout",
          "text": [
            "NUM: 5\n",
            "5 X 1 =  5\n",
            "5 X 2 =  10\n",
            "5 X 3 =  15\n",
            "5 X 4 =  20\n",
            "5 X 5 =  25\n",
            "5 X 6 =  30\n",
            "5 X 7 =  35\n",
            "5 X 8 =  40\n",
            "5 X 9 =  45\n",
            "5 X 10 =  50\n"
          ]
        }
      ]
    },
    {
      "cell_type": "markdown",
      "source": [],
      "metadata": {
        "id": "-DGZq5N22z65"
      },
      "id": "-DGZq5N22z65"
    },
    {
      "cell_type": "markdown",
      "id": "7de7eba5",
      "metadata": {
        "id": "7de7eba5"
      },
      "source": [
        "### 3. Write a Python Program to Print the Fibonacci sequence?\n"
      ]
    },
    {
      "cell_type": "code",
      "source": [
        "a = 0\n",
        "b = 1\n",
        "print(a)\n",
        "print(b)\n",
        "for x in range(1,9):\n",
        "    c = a + b\n",
        "    print(c)\n",
        "    a,b=b,c"
      ],
      "metadata": {
        "colab": {
          "base_uri": "https://localhost:8080/"
        },
        "id": "CaA-1os-Pc6i",
        "outputId": "fe6a8948-bb8b-4982-b216-bdaa36fd5a27"
      },
      "id": "CaA-1os-Pc6i",
      "execution_count": 16,
      "outputs": [
        {
          "output_type": "stream",
          "name": "stdout",
          "text": [
            "0\n",
            "1\n",
            "1\n",
            "2\n",
            "3\n",
            "5\n",
            "8\n",
            "13\n",
            "21\n",
            "34\n"
          ]
        }
      ]
    },
    {
      "cell_type": "markdown",
      "id": "0446442e",
      "metadata": {
        "id": "0446442e"
      },
      "source": [
        "### 4. Write a Python Program to Check Armstrong Number?"
      ]
    },
    {
      "cell_type": "code",
      "source": [
        "num = int(input(\"Enter a number: \"))\n",
        "\n",
        "sum = 0\n",
        "temp = num\n",
        "while temp > 0:\n",
        "   digit = temp % 10\n",
        "   sum += digit ** 3\n",
        "   temp //= 10\n",
        "if num == sum:\n",
        "   print(num,\"is an Armstrong number\")\n",
        "else:\n",
        "   print(num,\"is not an Armstrong number\")"
      ],
      "metadata": {
        "colab": {
          "base_uri": "https://localhost:8080/"
        },
        "id": "uQyCTp4eQzBb",
        "outputId": "1d533b9f-91ac-4a88-f94a-ac6943474ae4"
      },
      "id": "uQyCTp4eQzBb",
      "execution_count": 17,
      "outputs": [
        {
          "output_type": "stream",
          "name": "stdout",
          "text": [
            "Enter a number: 50\n",
            "50 is not an Armstrong number\n"
          ]
        }
      ]
    },
    {
      "cell_type": "markdown",
      "id": "a6f9adfe",
      "metadata": {
        "id": "a6f9adfe"
      },
      "source": [
        "### 5. Write a Python Program to Find Armstrong Number in an Interval?"
      ]
    },
    {
      "cell_type": "code",
      "source": [
        "lower = 100\n",
        "upper = 2000\n",
        "\n",
        "for num in range(lower, upper + 1):\n",
        "   order = len(str(num))\n",
        "   sum = 0\n",
        "\n",
        "   temp = num\n",
        "   while temp > 0:\n",
        "       digit = temp % 10\n",
        "       sum += digit ** order\n",
        "       temp //= 10\n",
        "\n",
        "   if num == sum:\n",
        "       print(num)"
      ],
      "metadata": {
        "colab": {
          "base_uri": "https://localhost:8080/"
        },
        "id": "oyuV-7FLRFt5",
        "outputId": "d16f8d3a-828e-46ba-b769-9a95bdd92d5e"
      },
      "id": "oyuV-7FLRFt5",
      "execution_count": 18,
      "outputs": [
        {
          "output_type": "stream",
          "name": "stdout",
          "text": [
            "153\n",
            "370\n",
            "371\n",
            "407\n",
            "1634\n"
          ]
        }
      ]
    },
    {
      "cell_type": "markdown",
      "id": "157cad60",
      "metadata": {
        "id": "157cad60"
      },
      "source": [
        "### 6. Write a Python Program to Find the Sum of Natural Numbers?"
      ]
    },
    {
      "cell_type": "code",
      "source": [
        "num = int(input(\"Enter num \"))\n",
        "\n",
        "if num < 0:\n",
        "   print(\"Enter a positive number\")\n",
        "else:\n",
        "   sum = 0\n",
        "   while(num > 0):\n",
        "       sum += num\n",
        "       num -= 1\n",
        "   print(\"SUM= \", sum)"
      ],
      "metadata": {
        "colab": {
          "base_uri": "https://localhost:8080/"
        },
        "id": "ImV96BLoRFFZ",
        "outputId": "67f51417-45c9-42ed-927d-67409e6e00a3"
      },
      "id": "ImV96BLoRFFZ",
      "execution_count": 25,
      "outputs": [
        {
          "output_type": "stream",
          "name": "stdout",
          "text": [
            "Enter num 5\n",
            "SUM=  15\n"
          ]
        }
      ]
    }
  ],
  "metadata": {
    "kernelspec": {
      "display_name": "Python 3 (ipykernel)",
      "language": "python",
      "name": "python3"
    },
    "language_info": {
      "codemirror_mode": {
        "name": "ipython",
        "version": 3
      },
      "file_extension": ".py",
      "mimetype": "text/x-python",
      "name": "python",
      "nbconvert_exporter": "python",
      "pygments_lexer": "ipython3",
      "version": "3.9.12"
    },
    "colab": {
      "provenance": [],
      "include_colab_link": true
    }
  },
  "nbformat": 4,
  "nbformat_minor": 5
}