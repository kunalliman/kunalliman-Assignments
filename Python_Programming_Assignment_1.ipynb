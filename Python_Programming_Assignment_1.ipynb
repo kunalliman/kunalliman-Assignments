{
  "cells": [
    {
      "cell_type": "markdown",
      "metadata": {
        "id": "view-in-github",
        "colab_type": "text"
      },
      "source": [
        "<a href=\"https://colab.research.google.com/github/kunalliman/kunalliman-iNeuron-Assignments/blob/main/Python_Programming_Assignment_1.ipynb\" target=\"_parent\"><img src=\"https://colab.research.google.com/assets/colab-badge.svg\" alt=\"Open In Colab\"/></a>"
      ]
    },
    {
      "cell_type": "markdown",
      "id": "637b47a5",
      "metadata": {
        "id": "637b47a5"
      },
      "source": [
        "## Programming Assignment_1\n",
        "-------------"
      ]
    },
    {
      "cell_type": "markdown",
      "id": "0c647dbe",
      "metadata": {
        "id": "0c647dbe"
      },
      "source": [
        "### 1. Write a Python program to print \"Hello Python\"?"
      ]
    },
    {
      "cell_type": "code",
      "source": [
        "print(\"Hello Python\")"
      ],
      "metadata": {
        "id": "AEn8dMxVvxKb",
        "colab": {
          "base_uri": "https://localhost:8080/"
        },
        "outputId": "8b45caf8-9bed-4d1b-d698-3a9f6564bae2"
      },
      "id": "AEn8dMxVvxKb",
      "execution_count": null,
      "outputs": [
        {
          "output_type": "stream",
          "name": "stdout",
          "text": [
            "Hello Python\n"
          ]
        }
      ]
    },
    {
      "cell_type": "markdown",
      "id": "fc18a6cd",
      "metadata": {
        "id": "fc18a6cd"
      },
      "source": [
        "### 2. Write a Python program to do arithmetical operations addition and division.?\n"
      ]
    },
    {
      "cell_type": "code",
      "source": [
        "a=int(input(\"NUM1 :\"))\n",
        "b=int(input(\"NUM2 :\"))\n",
        "c=int(input(\"NUM3 :\"))\n",
        "addition= (a+b)\n",
        "division= (addition)/c\n",
        "print(\"NUM1 + NUM2 = \" + str(addition))\n",
        "print(\"(NUM1 + NUM2)/NUM3 = \" + str(division))\n"
      ],
      "metadata": {
        "colab": {
          "base_uri": "https://localhost:8080/"
        },
        "id": "xvEY2AC2v_8M",
        "outputId": "5085a405-beed-40eb-f294-198916432f80"
      },
      "id": "xvEY2AC2v_8M",
      "execution_count": null,
      "outputs": [
        {
          "output_type": "stream",
          "name": "stdout",
          "text": [
            "NUM1 :45\n",
            "NUM2 :45\n",
            "NUM3 :90\n",
            "NUM1 + NUM2 = 90\n",
            "(NUM1 + NUM2)/NUM3 = 1.0\n"
          ]
        }
      ]
    },
    {
      "cell_type": "markdown",
      "id": "af6e2429",
      "metadata": {
        "id": "af6e2429"
      },
      "source": [
        "### 3. Write a Python program to find the area of a triangle?\n"
      ]
    },
    {
      "cell_type": "code",
      "source": [
        "b=float(input(\"base of triangle: \"))\n",
        "h=float(input(\"height of triangle: \"))\n",
        "A=float(0.5*b*h)\n",
        "print(\"Area of triangle: \" + str(A))"
      ],
      "metadata": {
        "colab": {
          "base_uri": "https://localhost:8080/"
        },
        "id": "stYreLQjxr_X",
        "outputId": "e08af1da-7279-4c10-8236-964260c90a1f"
      },
      "id": "stYreLQjxr_X",
      "execution_count": null,
      "outputs": [
        {
          "output_type": "stream",
          "name": "stdout",
          "text": [
            "base of triangle: 4\n",
            "height of triangle: 5\n",
            "Area of triangle: 10.0\n"
          ]
        }
      ]
    },
    {
      "cell_type": "markdown",
      "id": "b8140061",
      "metadata": {
        "id": "b8140061"
      },
      "source": [
        "### 4. Write a Python program to swap two variables?\n"
      ]
    },
    {
      "cell_type": "code",
      "source": [
        "x = 5\n",
        "y = 10\n",
        "\n",
        "x, y = y, x\n",
        "print(\"x =\", x)\n",
        "print(\"y =\", y)"
      ],
      "metadata": {
        "colab": {
          "base_uri": "https://localhost:8080/"
        },
        "id": "7iOB7G3CybiM",
        "outputId": "5dd8ca1d-371a-4970-9bca-18577b0d7598"
      },
      "id": "7iOB7G3CybiM",
      "execution_count": null,
      "outputs": [
        {
          "output_type": "stream",
          "name": "stdout",
          "text": [
            "x = 10\n",
            "y = 5\n"
          ]
        }
      ]
    },
    {
      "cell_type": "markdown",
      "id": "3f8054c1",
      "metadata": {
        "id": "3f8054c1"
      },
      "source": [
        "### 5. Write a Python program to generate a random number?\n"
      ]
    },
    {
      "cell_type": "code",
      "source": [
        "import random\n",
        "\n",
        "print(random.randint(0,100))\n"
      ],
      "metadata": {
        "colab": {
          "base_uri": "https://localhost:8080/"
        },
        "id": "YxS-6NERyskU",
        "outputId": "85668138-47ac-4238-d1a8-57c92f131ddb"
      },
      "id": "YxS-6NERyskU",
      "execution_count": null,
      "outputs": [
        {
          "output_type": "stream",
          "name": "stdout",
          "text": [
            "72\n"
          ]
        }
      ]
    }
  ],
  "metadata": {
    "kernelspec": {
      "display_name": "Python 3 (ipykernel)",
      "language": "python",
      "name": "python3"
    },
    "language_info": {
      "codemirror_mode": {
        "name": "ipython",
        "version": 3
      },
      "file_extension": ".py",
      "mimetype": "text/x-python",
      "name": "python",
      "nbconvert_exporter": "python",
      "pygments_lexer": "ipython3",
      "version": "3.9.12"
    },
    "colab": {
      "provenance": [],
      "include_colab_link": true
    }
  },
  "nbformat": 4,
  "nbformat_minor": 5
}